{
  "nbformat": 4,
  "nbformat_minor": 0,
  "metadata": {
    "kernelspec": {
      "display_name": "Python 3 (system-wide)",
      "language": "python",
      "metadata": {
        "cocalc": {
          "description": "Python 3 programming language",
          "priority": 100,
          "url": "https://www.python.org/"
        }
      },
      "name": "python3"
    },
    "language_info": {
      "codemirror_mode": {
        "name": "ipython",
        "version": 3
      },
      "file_extension": ".py",
      "mimetype": "text/x-python",
      "name": "python",
      "nbconvert_exporter": "python",
      "pygments_lexer": "ipython3",
      "version": "3.6.9"
    },
    "colab": {
      "name": "05_Strings_Questions.ipynb",
      "provenance": []
    }
  },
  "cells": [
    {
      "cell_type": "markdown",
      "metadata": {
        "collapsed": false,
        "id": "HXR4DXC9UFR9",
        "colab_type": "text"
      },
      "source": [
        "# Strings Exercises\n",
        "# Questions\n",
        "\n",
        "Answer these question in a new `ipynb` file.\n",
        "\n",
        "## Question 1\n",
        "\n",
        "Write a program which loops over the characters in a given string and prints every three character substring.\n",
        "\n",
        "```\n",
        "s = \"ABCDEFGHIJKLMNOPQRSTUVWXYZ\"\n",
        "...\n",
        "```\n",
        "Output:\n",
        "```\n",
        "ABC\n",
        "BCD\n",
        "CDE\n",
        "...\n",
        "XYZ\n",
        "```\n",
        "\n",
        "## Question 2\n",
        "\n",
        "Write a program which loops over the characters of a string **three at a time** and prints each three character substring. If the number of characters is not divisible by three, ignore the trailing characters.\n",
        "\n",
        "```\n",
        "s = \"ABCDEFGHIJKLMNOPQRSTUVWXYZ\"\n",
        "...\n",
        "```\n",
        "Output:\n",
        "```\n",
        "ABC\n",
        "DEF\n",
        "GHI\n",
        "...\n",
        "VWX\n",
        "```\n",
        "\n",
        "## Question 3\n",
        "TODO\n",
        "\n",
        "\n",
        "\n",
        "## Question 4\n",
        "(See https://bmm.crick.ac.uk/~chalei01/tutorial/Session6/Rasp_Pi_Visit_6_handout.pdf)  \n",
        "An RNA sequence consists of a chain of the nucleotides Adenine, Uracil, Cytosine and Guanine in a specific order. We can represent an RNA sequence by a string consisting of the four letters `A`, `U`, `C` and `G`.\n",
        "\n",
        "GCAUAUGUUCAUAUGAAUA\n",
        "\n",
        "each three character substring identifies a 'codon' which either identifies a specific amino acid within a protein, or a 'start' or 'stop' instruction.\n",
        "\n",
        "start codon: `AUG`  \n",
        "stop codons: `UAA`, `UAG`, `UGA`\n",
        "\n",
        "Given an RNA sequence, we would like to identify all the protein-encoding codons lying between with the first 'start' codon and the first 'stop' codon.\n",
        "\n",
        "GCAUAUG**UUCAUA**UGAAUA  \n",
        "\n",
        "codons:  \n",
        "UUC  \n",
        "AUA\n",
        "\n",
        "By following the steps below, write a program which prints a list of protein-encoding codons in the RNA sequence.\n",
        "\n",
        "### Step 1\n",
        "\n",
        "Write a program that loops over the characters in the string and checks whether each three character substring is equal to the 'start' codon, `AUG`. Once it finds the start codon, it should store the position in the variable `j`, then use the `break` keyword to abort the loop.\n",
        " \n",
        "For example,\n",
        "```\n",
        "s = \"GCAUAUGUUCAUAUGAAUA\"\n",
        "\n",
        "# Your code\n",
        "...\n",
        "\n",
        "print(j)\n",
        "```\n",
        "Output:\n",
        "```\n",
        "4\n",
        "```\n",
        "\n",
        "### Step 2\n",
        "\n",
        "Make a second loop which prints out three characters at a time, starting from position `j`.\n",
        "\n",
        "Abort the loop when it reaches one of the stop codons `UAA`, `UAG`, or `UGA`.\n",
        "\n",
        "Output:\n",
        "\n",
        "```\n",
        "UUC\n",
        "AUA\n",
        "```\n",
        "\n",
        "### Step 3\n",
        "\n",
        "Test your finished program against the following RNA sequences:\n",
        "\n",
        "`s1 = \"CAACAAUGCUCCCCGCCUAGUUG\"`\n",
        "\n",
        "Output:\n",
        "\n",
        "```\n",
        "CUC\n",
        "CCC\n",
        "GCC\n",
        "```\n",
        "\n",
        "`s2 = \"UAAAAUGAAUAAUAGAUAA\"`\n",
        "\n",
        "Output:\n",
        "```\n",
        "AAU\n",
        "AAU\n",
        "AGA\n",
        "```\n"
      ]
    },
    {
      "cell_type": "markdown",
      "metadata": {
        "collapsed": false,
        "id": "dXWJYKt3UFR-",
        "colab_type": "text"
      },
      "source": [
        "## TODO: More questions"
      ]
    },
    {
      "cell_type": "code",
      "metadata": {
        "id": "5k8QULOIUFR-",
        "colab_type": "code",
        "colab": {
          "base_uri": "https://localhost:8080/",
          "height": 443
        },
        "outputId": "1e89efc4-27ba-4103-fdf1-c4dd0abc8e9b"
      },
      "source": [
        "# Answer 1\n",
        "\n",
        "# This is the string we are given in the question above.\n",
        "s = \"ABCDEFGHIJKLMNOPQRSTUVWXYZ\"\n",
        "\n",
        "# This creates a list containing nothing in it. This means that we can use the .append() function to add elements to the list.\n",
        "letters_list = []\n",
        "\n",
        "# Here i represents the position of each character in the string, so we are looping over all characters in the string from the start to the 3rd from last.\n",
        "for i in range(len(s)-2): # We use range(len(s)-2) as this ensures that we get the correct output. If you change this to range(len(s)), you will see that we have unwanted extra letters at the end of our output.\n",
        "  \n",
        "    # This selects characters in the string from position i up to and including position i+3 and assigns them to a variable called characters (apologies for the slightly confusing name).\n",
        "    characters = s[i:i+3]\n",
        "  \n",
        "    # The variable characters is then added to the letter_list.\n",
        "    letters_list.append(characters)\n",
        "\n",
        "# This is not a required part of the solution, but I have included it so that you can see what is going on.\n",
        "print(letters_list)\n",
        "\n",
        "# In the second for loop, i represents elements in the letters_list from the first string \"ABC\" to the last string \"XYZ\".\n",
        "for y in letters_list:\n",
        "  \n",
        "    # This prints every string in our list from the first to the last in order.\n",
        "    print(y)\n"
      ],
      "execution_count": 1,
      "outputs": [
        {
          "output_type": "stream",
          "text": [
            "['ABC', 'BCD', 'CDE', 'DEF', 'EFG', 'FGH', 'GHI', 'HIJ', 'IJK', 'JKL', 'KLM', 'LMN', 'MNO', 'NOP', 'OPQ', 'PQR', 'QRS', 'RST', 'STU', 'TUV', 'UVW', 'VWX', 'WXY', 'XYZ']\n",
            "ABC\n",
            "BCD\n",
            "CDE\n",
            "DEF\n",
            "EFG\n",
            "FGH\n",
            "GHI\n",
            "HIJ\n",
            "IJK\n",
            "JKL\n",
            "KLM\n",
            "LMN\n",
            "MNO\n",
            "NOP\n",
            "OPQ\n",
            "PQR\n",
            "QRS\n",
            "RST\n",
            "STU\n",
            "TUV\n",
            "UVW\n",
            "VWX\n",
            "WXY\n",
            "XYZ\n"
          ],
          "name": "stdout"
        }
      ]
    },
    {
      "cell_type": "code",
      "metadata": {
        "id": "YsxTLAN9iTzL",
        "colab_type": "code",
        "colab": {
          "base_uri": "https://localhost:8080/",
          "height": 420
        },
        "outputId": "a34f45cd-0298-49ad-d126-6d54fc505d33"
      },
      "source": [
        "# Alternative to 1\n",
        "\n",
        "s = \"ABCDEFGHIJKLMNOPQRSTUVWXYZ\"\n",
        "for i in range(len(s)-2):\n",
        "    print(s[i:i+3])"
      ],
      "execution_count": null,
      "outputs": [
        {
          "output_type": "stream",
          "text": [
            "ABC\n",
            "BCD\n",
            "CDE\n",
            "DEF\n",
            "EFG\n",
            "FGH\n",
            "GHI\n",
            "HIJ\n",
            "IJK\n",
            "JKL\n",
            "KLM\n",
            "LMN\n",
            "MNO\n",
            "NOP\n",
            "OPQ\n",
            "PQR\n",
            "QRS\n",
            "RST\n",
            "STU\n",
            "TUV\n",
            "UVW\n",
            "VWX\n",
            "WXY\n",
            "XYZ\n"
          ],
          "name": "stdout"
        }
      ]
    },
    {
      "cell_type": "code",
      "metadata": {
        "id": "EnKUMD7DcUgT",
        "colab_type": "code",
        "colab": {
          "base_uri": "https://localhost:8080/",
          "height": 151
        },
        "outputId": "9cd0d38e-9213-498c-8527-b9bdee1bb8c6"
      },
      "source": [
        "# Answer 2\n",
        "\n",
        "# Solution 1\n",
        "\n",
        "# This is the string we are given in the question above.\n",
        "s = \"ABCDEFGHIJKLMNOPQRSTUVWXYZ\"\n",
        "\n",
        "# This creates a list containing nothing in it. This means that we can use the .append(function) to add elements to the list.\n",
        "letters_list = []\n",
        "\n",
        "# Here i still represents the position of each character in the string, but it runs over all the characters in s in steps of 3.\n",
        "for i in range(0,len(s),3): # Note: Here the first number of the range function is the starting position, the second number is the number of positions and the third number is the step size.\n",
        "  \n",
        "    # This selects characters in the string from position i up to and including position i+3 and assigns them to a variable called characters.\n",
        "    characters = s[i:i+3]\n",
        "  \n",
        "    # The if statement checks whether the number of letters in the variable characters is divisible by three.\n",
        "    if len(characters) % 3 == 0:\n",
        "\n",
        "        # If the above statement is true, then the variable characters is added to the letters list.\n",
        "        letters_list.append(characters)\n",
        "\n",
        "\n",
        "# In this for loop, i represents elements in the letters_list from the first string \"ABC\" to the last string \"XYZ\".\n",
        "for y in letters_list:\n",
        "\n",
        "    # This prints every element in our list.\n",
        "    print(y)"
      ],
      "execution_count": null,
      "outputs": [
        {
          "output_type": "stream",
          "text": [
            "ABC\n",
            "DEF\n",
            "GHI\n",
            "JKL\n",
            "MNO\n",
            "PQR\n",
            "STU\n",
            "VWX\n"
          ],
          "name": "stdout"
        }
      ]
    },
    {
      "cell_type": "code",
      "metadata": {
        "id": "ypP_9JRUCEBT",
        "colab_type": "code",
        "colab": {
          "base_uri": "https://localhost:8080/",
          "height": 153
        },
        "outputId": "05f2799a-722a-45c9-8345-a65b1ad2908f"
      },
      "source": [
        "# Alternative Answer 2\n",
        "\n",
        "# This is the string we are given in the question above.\n",
        "s = \"ABCDEFGHIJKLMNOPQRSTUVWXYZ\"\n",
        "\n",
        "# This creates a list containing nothing in it. This means that we can use the .append(function) to add elements to the list.\n",
        "letters_list = []\n",
        "\n",
        "# Here i represents the position of each character in the string from 0 to len(s) - 1 in steps of 1.\n",
        "for i in range(len(s)):\n",
        "  \n",
        "    # The if statement checks whether the position of the character in the string is divisible by 3.\n",
        "    if i % 3 == 0:\n",
        "    \n",
        "        # If this is true, the characters from position i up to position i+3 are selected and assigned to a variable called characters.\n",
        "        characters = s[i:i+3]\n",
        "\n",
        "        # The second if statement checks whether the number of letters in the variable characters is divisible by three.\n",
        "        if len(characters) % 3 == 0:\n",
        "\n",
        "            # If this is true, then the variable characters is added to the letters list.\n",
        "            letters_list.append(characters)\n",
        "\n",
        "# In this for loop, i represents elements in the letters_list from the first string \"ABC\" to the last string \"XYZ\".\n",
        "for y in letters_list:\n",
        "\n",
        "    # This prints every element in our list.\n",
        "    print(y)"
      ],
      "execution_count": 3,
      "outputs": [
        {
          "output_type": "stream",
          "text": [
            "ABC\n",
            "DEF\n",
            "GHI\n",
            "JKL\n",
            "MNO\n",
            "PQR\n",
            "STU\n",
            "VWX\n"
          ],
          "name": "stdout"
        }
      ]
    },
    {
      "cell_type": "code",
      "metadata": {
        "id": "SFYSAPtXBSWv",
        "colab_type": "code",
        "colab": {
          "base_uri": "https://localhost:8080/",
          "height": 153
        },
        "outputId": "0075c983-6866-41fe-e4df-d5fd0283adb4"
      },
      "source": [
        "# Another Alternate answer\n",
        "\n",
        "# Note: This answer is adapted from  https://bmm.crick.ac.uk/~chalei01/tutorial/Session6/Rasp_Pi_Visit_6_handout.pdf. \n",
        "\n",
        "# I have only included this for completeness as it is mentioned in the link.\n",
        "\n",
        "alphabet\t=\t\"ABCDEFGHIJKLMNOPQRSTUVWXYZ\"\n",
        "length_of_alphabet\t=\tlen(alphabet)\n",
        "list_of_positions\t=\trange(0,length_of_alphabet,3)\n",
        "for\tletter\tin list_of_positions:\n",
        "    characters = alphabet[letter:letter+3]\n",
        "    if len(characters) % 3 == 0:\n",
        "        print(characters)"
      ],
      "execution_count": 4,
      "outputs": [
        {
          "output_type": "stream",
          "text": [
            "ABC\n",
            "DEF\n",
            "GHI\n",
            "JKL\n",
            "MNO\n",
            "PQR\n",
            "STU\n",
            "VWX\n"
          ],
          "name": "stdout"
        }
      ]
    },
    {
      "cell_type": "code",
      "metadata": {
        "id": "VHryO_thjZo7",
        "colab_type": "code",
        "colab": {
          "base_uri": "https://localhost:8080/",
          "height": 153
        },
        "outputId": "b189e7a0-a6c5-4b76-c1f0-ab21d280a51f"
      },
      "source": [
        "# A quicker solution to question 2\n",
        "s\t=\t\"ABCDEFGHIJKLMNOPQRSTUVWXYZ\"\n",
        "\n",
        "for\ti in range(0,len(s),3):\n",
        "    if len(s[i:i+3]) % 3 == 0:\n",
        "        print(s[i:i+3])"
      ],
      "execution_count": 5,
      "outputs": [
        {
          "output_type": "stream",
          "text": [
            "ABC\n",
            "DEF\n",
            "GHI\n",
            "JKL\n",
            "MNO\n",
            "PQR\n",
            "STU\n",
            "VWX\n"
          ],
          "name": "stdout"
        }
      ]
    },
    {
      "cell_type": "code",
      "metadata": {
        "id": "ZktNSPwFoiCG",
        "colab_type": "code",
        "colab": {
          "base_uri": "https://localhost:8080/",
          "height": 85
        },
        "outputId": "3cdc460f-eafa-4efa-ea8d-cd551c97fb53"
      },
      "source": [
        "# Answer 4\n",
        "# Step 1\n",
        "\n",
        "# This defines s as the string we are given in the question above.\n",
        "s = \"GCAUAUGUUCAUAUGAAUA\"\n",
        "\n",
        "# Remember here that i represents the position of each character in the string from 0 to len(s)-1 in steps of 1.\n",
        "for i in range(len(s)):\n",
        "    \n",
        "    # The if statement checks whether characters in the positions from i to i+3 are equal to the start codon \"AUG\".\n",
        "    if s[i:i+3] == \"AUG\":\n",
        "      \n",
        "        # If the above statement is true, then break is used to abort the loop.\n",
        "        break\n",
        "\n",
        "# Here we use the print function to show that i has same value as it did when the loop was aborted.\n",
        "print(i)\n",
        "\n",
        "\n",
        "# Step 2\n",
        "\n",
        "# Note: I have not defined s here as it is already included in step 1.\n",
        "\n",
        "# This creates an empty list. We can use the .append(function) to add elements to the list.\n",
        "DNA_list = []\n",
        "\n",
        "# Once again i represents the position of each character in the string from 0 to len(s)-1 in steps of 1.\n",
        "for i in range(len(s)):\n",
        "\n",
        "    # The if statement checks whether characters in the positions from i to i+3 are equal to \"AUG\".\n",
        "    if s[i:i+3] == \"AUG\":\n",
        "\n",
        "        # If the above statement is true, then break is used to abort the loop.\n",
        "        break\n",
        "\n",
        "# Remember that i has the same value as it did when the loop was aborted, so we define j to be equal to i so that we can start the loop from the correct position.\n",
        "j = i\n",
        "\n",
        "# Note: The step size here is 3 and that we are starting from j + 3, so that none of the characters from \"AUG\" are included in the output.\n",
        "for i in range(j + 3,len(s),3): \n",
        "  \n",
        "    # The characters from position i up to position i+3 are selected and assigned to a variable called characters.\n",
        "    characters = s[i:i+3]\n",
        "\n",
        "    # These if and elif statements abort the loop if the variable characters (created in the previous step) contains one of the stop codons \"UAA\", \"UAG\" or \"UGA\".\n",
        "    if s[i:i+3] == \"UAA\": \n",
        "        break\n",
        "    elif s[i:i+3] == \"UAG\":\n",
        "        break\n",
        "    elif s[i:i+3] == \"UGA\":\n",
        "        break\n",
        "  \n",
        "    # If the variable characters contains none of the stop codons, it is added to the letters list.\n",
        "    else:\n",
        "        DNA_list.append(characters)\n",
        "\n",
        "# Not required as part of the solution, but I have included it to help you understand what is going on.\n",
        "print(DNA_list)\n",
        "\n",
        "# In this for loop, i represents elements in the letters_list from the first element to the last.\n",
        "for i in DNA_list:\n",
        "  \n",
        "    # This prints every element in letters list.\n",
        "    print(i)"
      ],
      "execution_count": 6,
      "outputs": [
        {
          "output_type": "stream",
          "text": [
            "4\n",
            "['UUC', 'AUA']\n",
            "UUC\n",
            "AUA\n"
          ],
          "name": "stdout"
        }
      ]
    },
    {
      "cell_type": "code",
      "metadata": {
        "id": "JNt4Ko94vkt7",
        "colab_type": "code",
        "colab": {
          "base_uri": "https://localhost:8080/",
          "height": 85
        },
        "outputId": "41e46949-c71d-436d-f627-8e9f5fb50eed"
      },
      "source": [
        "# Step 3\n",
        "\n",
        "# Note: The code here is almost identical to the code from step 2, but using a different string.\n",
        "\n",
        "s1 = \"CAACAAUGCUCCCCGCCUAGUUG\"\n",
        "\n",
        "DNA_list = []\n",
        "for i in range(len(s1)):\n",
        "    if s1[i:i+3] == \"AUG\":\n",
        "        break\n",
        "j = i\n",
        "for i in range(j + 3,len(s1),3):\n",
        "    characters = s1[i:i+3]\n",
        "    if s1[i:i+3] == \"UAA\": \n",
        "        break\n",
        "    elif s1[i:i+3] == \"UAG\":\n",
        "        break\n",
        "    elif s1[i:i+3] == \"UGA\":\n",
        "        break\n",
        "    else:\n",
        "        DNA_list.append(characters)\n",
        "print(DNA_list)\n",
        "for i in DNA_list:\n",
        "    print(i)"
      ],
      "execution_count": 7,
      "outputs": [
        {
          "output_type": "stream",
          "text": [
            "['CUC', 'CCC', 'GCC']\n",
            "CUC\n",
            "CCC\n",
            "GCC\n"
          ],
          "name": "stdout"
        }
      ]
    },
    {
      "cell_type": "code",
      "metadata": {
        "id": "L7DCkNwBFi5o",
        "colab_type": "code",
        "colab": {
          "base_uri": "https://localhost:8080/",
          "height": 85
        },
        "outputId": "0bf36f68-9870-4b81-f84e-6599a1beaeca"
      },
      "source": [
        "s2 = \"UAAAAUGAAUAAUAGAUAA\"\n",
        "\n",
        "DNA_list = []\n",
        "for i in range(len(s2)):\n",
        "    if s2[i:i+3] == \"AUG\":\n",
        "        break\n",
        "j = i\n",
        "for i in range(j + 3,len(s2),3):\n",
        "    characters = s2[i:i+3]\n",
        "    if s2[i:i+3] == \"UAA\": \n",
        "        break\n",
        "    elif s2[i:i+3] == \"UAG\":\n",
        "        break\n",
        "    elif s2[i:i+3] == \"UGA\":\n",
        "        break\n",
        "    else:\n",
        "        DNA_list.append(characters)\n",
        "print(DNA_list)\n",
        "for i in DNA_list:\n",
        "    print(i)"
      ],
      "execution_count": 8,
      "outputs": [
        {
          "output_type": "stream",
          "text": [
            "['AAU', 'AAU', 'AGA']\n",
            "AAU\n",
            "AAU\n",
            "AGA\n"
          ],
          "name": "stdout"
        }
      ]
    },
    {
      "cell_type": "code",
      "metadata": {
        "id": "-ikvZBybkgVR",
        "colab_type": "code",
        "colab": {
          "base_uri": "https://localhost:8080/",
          "height": 218
        },
        "outputId": "797c4931-c906-4ba4-9a08-8cebe437e80d"
      },
      "source": [
        "# Alternative to 3\n",
        "\n",
        "#Step 1\n",
        "\n",
        "s = \"GCAUAUGUUCAUAUGAAUA\"\n",
        "\n",
        "for i in range (0,len(s)):\n",
        "  if s[i:i+3] == \"AUG\":\n",
        "    j=i+3\n",
        "    break\n",
        "\n",
        "#Step 2\n",
        "for i in range(j,len(s),3):\n",
        "  if s[i:i+3] == \"UAA\" or s[i:i+3] == \"UAG\" or s[i:i+3] == \"UGA\":\n",
        "    break\n",
        "  else:\n",
        "    print(s[i:i+3])\n",
        "\n",
        "#Step 3\n",
        "\n",
        "print(\"\\n\")\n",
        "s1 = \"CAACAAUGCUCCCCGCCUAGUUG\"\n",
        "\n",
        "for i in range (0,len(s1)):\n",
        "  if s1[i:i+3] == \"AUG\":\n",
        "    j=i+3\n",
        "    break\n",
        "for i in range(j,len(s1),3):\n",
        "  if s1[i:i+3] == \"UAA\" or s1[i:i+3] == \"UAG\" or s1[i:i+3] == \"UGA\":\n",
        "    break\n",
        "  else:\n",
        "    print(s1[i:i+3])\n",
        "\n",
        "print(\"\\n\")\n",
        "s2 = \"UAAAAUGAAUAAUAGAUAA\"\n",
        "\n",
        "for i in range (0,len(s2)):\n",
        "  if s2[i:i+3] == \"AUG\":\n",
        "    j=i+3\n",
        "    break\n",
        "for i in range(j,len(s2),3):\n",
        "  if s2[i:i+3] == \"UAA\" or s2[i:i+3] == \"UAG\" or s2[i:i+3] == \"UGA\":\n",
        "    break\n",
        "  else:\n",
        "    print(s2[i:i+3])"
      ],
      "execution_count": null,
      "outputs": [
        {
          "output_type": "stream",
          "text": [
            "UUC\n",
            "AUA\n",
            "\n",
            "\n",
            "CUC\n",
            "CCC\n",
            "GCC\n",
            "\n",
            "\n",
            "AAU\n",
            "AAU\n",
            "AGA\n"
          ],
          "name": "stdout"
        }
      ]
    }
  ]
}